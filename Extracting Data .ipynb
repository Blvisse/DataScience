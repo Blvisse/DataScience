{
 "cells": [
  {
   "cell_type": "code",
   "execution_count": 2,
   "metadata": {},
   "outputs": [],
   "source": [
    "#import sql library package\n",
    "import sqlite3"
   ]
  },
  {
   "cell_type": "code",
   "execution_count": 4,
   "metadata": {},
   "outputs": [],
   "source": [
    "#connect to the DB and close connection\n",
    "connection=sqlite3.connect('classroomsDB.db')\n",
    "connection.close()"
   ]
  },
  {
   "cell_type": "code",
   "execution_count": 29,
   "metadata": {},
   "outputs": [],
   "source": [
    "#create table\n",
    "connection=sqlite3.connect('classroomsDB.db')\n",
    "#second step is to open a curso\n",
    "cursor=connection.cursor()\n",
    "#query for creating table\n",
    "create_table= \"\"\"\n",
    "                CREATE TABLE classrooms (\n",
    "                student_id INTEGER PRIMARY KEY,\n",
    "                name VARCHAR(20),\n",
    "                gender CHAR (1),\n",
    "                physics_marks INTEGER,\n",
    "                chemistry_marks INTEGER,\n",
    "                mathematics_marks INTEGER\n",
    "                );\"\"\"\n",
    "#create query\n",
    "cursor.execute(create_table)\n",
    "#commit changes\n",
    "connection.commit()\n",
    "#close connection\n",
    "connection.close()"
   ]
  },
  {
   "cell_type": "code",
   "execution_count": 30,
   "metadata": {},
   "outputs": [],
   "source": [
    "#inserting Data\n",
    "classroom_data=[(1,'Raj','M',70,84,92),\n",
    "               (2,'Poonan','F',87,69,93),\n",
    "                (3,'Nik','M',65,83,90),\n",
    "                (4,'Rahui','F',83,76,89)\n",
    "               ]\n",
    "#connection setup\n",
    "connection=sqlite3.connect('classroomsDB.db')\n",
    "#open curso\n",
    "cursor=connection.cursor()\n",
    "#insert each student data\n",
    "for student in classroom_data:\n",
    "    insert_statement=\"\"\"\n",
    "                    \n",
    "                    INSERT INTO classrooms\n",
    "                    (student_id,name,gender,physics_marks,chemistry_marks,mathematics_marks)\n",
    "                    VALUES\n",
    "                    ({0},'{1}','{2}',{3},{4},{5});\n",
    "                    \n",
    "                    \"\"\".format(student[0],student[1],student[2],student[3],student[4],student[5]) \n",
    "    #execute query\n",
    "    cursor.execute(insert_statement)\n",
    "#commit changes\n",
    "connection.commit()\n",
    "#close connection\n",
    "connection.close()"
   ]
  },
  {
   "cell_type": "code",
   "execution_count": 31,
   "metadata": {},
   "outputs": [
    {
     "name": "stdout",
     "output_type": "stream",
     "text": [
      "(1, 'Raj', 'M', 70, 84, 92)\n",
      "(2, 'Poonan', 'F', 87, 69, 93)\n",
      "(3, 'Nik', 'M', 65, 83, 90)\n",
      "(4, 'Rahui', 'F', 83, 76, 89)\n"
     ]
    }
   ],
   "source": [
    "#createconnection\n",
    "connection=sqlite3.connect('classroomsDB.db')\n",
    "\n",
    "#open cursor\n",
    "cursor=connection.cursor()\n",
    "#query\n",
    "query='SELECT * FROM classrooms'\n",
    "#execute query\n",
    "cursor.execute(query)\n",
    "#fetch results\n",
    "results=cursor.fetchall()\n",
    "#print results\n",
    "for row in results:\n",
    "    print(row)\n",
    "#connection close\n",
    "connection.close()"
   ]
  },
  {
   "cell_type": "markdown",
   "metadata": {},
   "source": [
    "Extracting from mysql database\n"
   ]
  },
  {
   "cell_type": "code",
   "execution_count": 36,
   "metadata": {},
   "outputs": [
    {
     "name": "stdout",
     "output_type": "stream",
     "text": [
      "Collecting pymysql\n",
      "  Downloading PyMySQL-0.9.3-py2.py3-none-any.whl (47 kB)\n",
      "Installing collected packages: pymysql\n",
      "Successfully installed pymysql-0.9.3\n"
     ]
    }
   ],
   "source": [
    "!pip install pymysql"
   ]
  },
  {
   "cell_type": "code",
   "execution_count": 37,
   "metadata": {},
   "outputs": [],
   "source": [
    "#import pymsql library package \n",
    "import pymysql"
   ]
  },
  {
   "cell_type": "code",
   "execution_count": null,
   "metadata": {},
   "outputs": [],
   "source": [
    "#connecting\n",
    " "
   ]
  }
 ],
 "metadata": {
  "kernelspec": {
   "display_name": "Python 3",
   "language": "python",
   "name": "python3"
  },
  "language_info": {
   "codemirror_mode": {
    "name": "ipython",
    "version": 3
   },
   "file_extension": ".py",
   "mimetype": "text/x-python",
   "name": "python",
   "nbconvert_exporter": "python",
   "pygments_lexer": "ipython3",
   "version": "3.7.6"
  }
 },
 "nbformat": 4,
 "nbformat_minor": 4
}
